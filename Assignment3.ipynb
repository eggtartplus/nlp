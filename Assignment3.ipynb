{
  "nbformat": 4,
  "nbformat_minor": 0,
  "metadata": {
    "colab": {
      "provenance": [],
      "include_colab_link": true
    },
    "kernelspec": {
      "name": "python3",
      "display_name": "Python 3"
    },
    "language_info": {
      "name": "python"
    }
  },
  "cells": [
    {
      "cell_type": "markdown",
      "metadata": {
        "id": "view-in-github",
        "colab_type": "text"
      },
      "source": [
        "<a href=\"https://colab.research.google.com/github/eggtartplus/nlp/blob/main/Assignment3.ipynb\" target=\"_parent\"><img src=\"https://colab.research.google.com/assets/colab-badge.svg\" alt=\"Open In Colab\"/></a>"
      ]
    },
    {
      "cell_type": "markdown",
      "source": [
        "# Assignment 3\n",
        "\n",
        "The goal of assignment 3 is for your learn TD-IDF, cosine similarity, and embedding. \n",
        "\n",
        "Here are four types of data (i.e. four categories of lyrics)\n",
        "* https://slpcourse.github.io/materials/lyrics/country.txt\n",
        "* https://slpcourse.github.io/materials/lyrics/pop.txt\n",
        "* https://slpcourse.github.io/materials/lyrics/rap.txt\n",
        "* https://slpcourse.github.io/materials/lyrics/rock.txt\n",
        "\n",
        "Each song is segmented by `<SONG_BOUNDARY>`"
      ],
      "metadata": {
        "id": "pArOogTBkwYv"
      }
    },
    {
      "cell_type": "markdown",
      "source": [
        "## Task 1: TF-IDF [25 marks]\n",
        "\n",
        "Implement the TF-IDF algorithm. You need to write your own compute_tf, and compute_idf functions."
      ],
      "metadata": {
        "id": "7HqbVCOHAN6Q"
      }
    },
    {
      "cell_type": "code",
      "source": [
        "# impement your TF-IDF algorithms here"
      ],
      "metadata": {
        "id": "T-kj3zqHANmj"
      },
      "execution_count": null,
      "outputs": []
    },
    {
      "cell_type": "markdown",
      "source": [
        "## Task 2: Kmeans clustering [45 marks]\n",
        "\n",
        "Perform kmeans clustering with the TF-IDF weights. You need to initialize the kmeans centroid in two different ways: random initialization, and smart initialization where you initialize the centroid with a vector from each category.\n",
        "\n",
        "Here are your tasks\n",
        "\n",
        "*   Visualize the clustering results from random initialization. each cluster need to have its own color, and highlight the centroid\n",
        "*   Visualize the clustering results from smart initialization. each cluster need to have its own color, and highlight the centroid\n",
        "*   Calculate the cosine similarity of the kmeans centroid from smart initialization. Present your result in a table\n",
        "*   Discuss the difference and your observation\n",
        "\n",
        "You may use scikit-learn for kmeans clustering and t-SNE visualization\n",
        "\n"
      ],
      "metadata": {
        "id": "y5jRQhgdCWvE"
      }
    },
    {
      "cell_type": "code",
      "source": [
        "# implement task 2 here"
      ],
      "metadata": {
        "id": "1c_AVAnXFFCa"
      },
      "execution_count": null,
      "outputs": []
    },
    {
      "cell_type": "markdown",
      "source": [
        "##Task 3: Kmeans clustering with Word2vec or BERT embedding [30 marks]\n",
        "\n",
        "Similar to task 2, but perform kmeans clustering with word2vec or BERT embedding.\n",
        "Here are your tasks\n",
        "\n",
        "*   Visualize the clustering results from random initialization. each cluster need to have its own color, and highlight the centroid\n",
        "*   Visualize the clustering results from smart initialization. each cluster need to have its own color, and highlight the centroid\n",
        "*   Discuss the difference and your observation\n",
        "\n",
        "You may use scikit-learn for kmeans clustering and t-SNE visualization\n",
        "\n"
      ],
      "metadata": {
        "id": "gCAsKrcMFPQP"
      }
    },
    {
      "cell_type": "code",
      "source": [
        "# implement task 3 here"
      ],
      "metadata": {
        "id": "-dcqycoZFOos"
      },
      "execution_count": null,
      "outputs": []
    },
    {
      "cell_type": "code",
      "source": [],
      "metadata": {
        "id": "FU6_6xfRF8Ro"
      },
      "execution_count": null,
      "outputs": []
    }
  ]
}